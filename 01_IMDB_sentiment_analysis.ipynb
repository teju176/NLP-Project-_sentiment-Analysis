{
  "nbformat": 4,
  "nbformat_minor": 0,
  "metadata": {
    "colab": {
      "name": "01 IMDB_sentiment_analysis.ipynb",
      "provenance": [],
      "collapsed_sections": [],
      "toc_visible": true
    },
    "kernelspec": {
      "display_name": "Python 3",
      "name": "python3"
    }
  },
  "cells": [
    {
      "cell_type": "markdown",
      "metadata": {
        "id": "-hLdF1oit06A"
      },
      "source": [
        "# Sentiment analysis of IMDB reviews\n"
      ]
    },
    {
      "cell_type": "code",
      "metadata": {
        "id": "DzJqzHv-LceW"
      },
      "source": [
        "\n",
        "import tensorflow as tf"
      ],
      "execution_count": null,
      "outputs": []
    },
    {
      "cell_type": "code",
      "metadata": {
        "id": "54C8Oca0LlVR"
      },
      "source": [
        "import tensorflow.keras as keras\n",
        "import numpy as np\n",
        "import pandas as pd\n",
        "import matplotlib.pyplot as plt\n"
      ],
      "execution_count": null,
      "outputs": []
    },
    {
      "cell_type": "markdown",
      "metadata": {
        "id": "npBPD8k_PwRJ"
      },
      "source": [
        "# Importing the data files\n",
        "\n"
      ]
    },
    {
      "cell_type": "code",
      "metadata": {
        "id": "eOvZ5uMyOtTF"
      },
      "source": [
        "imdb_reviews=pd.read_csv(\"/content/imdb_reviews.csv\")\n",
        "test_reviews=pd.read_csv(\"/content/test_reviews.csv\")"
      ],
      "execution_count": null,
      "outputs": []
    },
    {
      "cell_type": "markdown",
      "metadata": {
        "id": "C4a_Zs-8WhcH"
      },
      "source": [
        "first data file contains the imdb reviews and their corresponding sentiments which can be either positive or negative, we are going to use this file as our training data."
      ]
    },
    {
      "cell_type": "code",
      "metadata": {
        "id": "YI4qnZOTPFqx",
        "colab": {
          "base_uri": "https://localhost:8080/",
          "height": 204
        },
        "outputId": "5240acf8-e34a-4857-ad0f-5b72ed9ae3b7"
      },
      "source": [
        "imdb_reviews.head()"
      ],
      "execution_count": null,
      "outputs": [
        {
          "output_type": "execute_result",
          "data": {
            "text/html": [
              "<div>\n",
              "<style scoped>\n",
              "    .dataframe tbody tr th:only-of-type {\n",
              "        vertical-align: middle;\n",
              "    }\n",
              "\n",
              "    .dataframe tbody tr th {\n",
              "        vertical-align: top;\n",
              "    }\n",
              "\n",
              "    .dataframe thead th {\n",
              "        text-align: right;\n",
              "    }\n",
              "</style>\n",
              "<table border=\"1\" class=\"dataframe\">\n",
              "  <thead>\n",
              "    <tr style=\"text-align: right;\">\n",
              "      <th></th>\n",
              "      <th>Reviews</th>\n",
              "      <th>Sentiment</th>\n",
              "    </tr>\n",
              "  </thead>\n",
              "  <tbody>\n",
              "    <tr>\n",
              "      <th>0</th>\n",
              "      <td>&lt;START this film was just brilliant casting lo...</td>\n",
              "      <td>positive</td>\n",
              "    </tr>\n",
              "    <tr>\n",
              "      <th>1</th>\n",
              "      <td>&lt;START big hair big boobs bad music and a gian...</td>\n",
              "      <td>negative</td>\n",
              "    </tr>\n",
              "    <tr>\n",
              "      <th>2</th>\n",
              "      <td>&lt;START this has to be one of the worst films o...</td>\n",
              "      <td>negative</td>\n",
              "    </tr>\n",
              "    <tr>\n",
              "      <th>3</th>\n",
              "      <td>&lt;START the &lt;UNK&gt; &lt;UNK&gt; at storytelling the tra...</td>\n",
              "      <td>positive</td>\n",
              "    </tr>\n",
              "    <tr>\n",
              "      <th>4</th>\n",
              "      <td>&lt;START worst mistake of my life br br i picked...</td>\n",
              "      <td>negative</td>\n",
              "    </tr>\n",
              "  </tbody>\n",
              "</table>\n",
              "</div>"
            ],
            "text/plain": [
              "                                             Reviews Sentiment\n",
              "0  <START this film was just brilliant casting lo...  positive\n",
              "1  <START big hair big boobs bad music and a gian...  negative\n",
              "2  <START this has to be one of the worst films o...  negative\n",
              "3  <START the <UNK> <UNK> at storytelling the tra...  positive\n",
              "4  <START worst mistake of my life br br i picked...  negative"
            ]
          },
          "metadata": {
            "tags": []
          },
          "execution_count": 7
        }
      ]
    },
    {
      "cell_type": "code",
      "metadata": {
        "id": "LGqg6S8OXVmV",
        "colab": {
          "base_uri": "https://localhost:8080/",
          "height": 204
        },
        "outputId": "4318016f-7ebd-4592-c630-2dbde76b80e8"
      },
      "source": [
        "test_reviews.head()"
      ],
      "execution_count": null,
      "outputs": [
        {
          "output_type": "execute_result",
          "data": {
            "text/html": [
              "<div>\n",
              "<style scoped>\n",
              "    .dataframe tbody tr th:only-of-type {\n",
              "        vertical-align: middle;\n",
              "    }\n",
              "\n",
              "    .dataframe tbody tr th {\n",
              "        vertical-align: top;\n",
              "    }\n",
              "\n",
              "    .dataframe thead th {\n",
              "        text-align: right;\n",
              "    }\n",
              "</style>\n",
              "<table border=\"1\" class=\"dataframe\">\n",
              "  <thead>\n",
              "    <tr style=\"text-align: right;\">\n",
              "      <th></th>\n",
              "      <th>Reviews</th>\n",
              "      <th>Sentiment</th>\n",
              "    </tr>\n",
              "  </thead>\n",
              "  <tbody>\n",
              "    <tr>\n",
              "      <th>0</th>\n",
              "      <td>&lt;START please give this one a miss br br &lt;UNK&gt;...</td>\n",
              "      <td>negative</td>\n",
              "    </tr>\n",
              "    <tr>\n",
              "      <th>1</th>\n",
              "      <td>&lt;START this film requires a lot of patience be...</td>\n",
              "      <td>positive</td>\n",
              "    </tr>\n",
              "    <tr>\n",
              "      <th>2</th>\n",
              "      <td>&lt;START many animation buffs consider &lt;UNK&gt; &lt;UN...</td>\n",
              "      <td>positive</td>\n",
              "    </tr>\n",
              "    <tr>\n",
              "      <th>3</th>\n",
              "      <td>&lt;START i generally love this type of movie how...</td>\n",
              "      <td>negative</td>\n",
              "    </tr>\n",
              "    <tr>\n",
              "      <th>4</th>\n",
              "      <td>&lt;START like some other people wrote i'm a die ...</td>\n",
              "      <td>positive</td>\n",
              "    </tr>\n",
              "  </tbody>\n",
              "</table>\n",
              "</div>"
            ],
            "text/plain": [
              "                                             Reviews Sentiment\n",
              "0  <START please give this one a miss br br <UNK>...  negative\n",
              "1  <START this film requires a lot of patience be...  positive\n",
              "2  <START many animation buffs consider <UNK> <UN...  positive\n",
              "3  <START i generally love this type of movie how...  negative\n",
              "4  <START like some other people wrote i'm a die ...  positive"
            ]
          },
          "metadata": {
            "tags": []
          },
          "execution_count": 8
        }
      ]
    },
    {
      "cell_type": "markdown",
      "metadata": {
        "id": "cOfnoRhGXogV"
      },
      "source": [
        "# Preprocessing the data\n",
        "\n"
      ]
    },
    {
      "cell_type": "code",
      "metadata": {
        "id": "uf5XTq_hAxL6"
      },
      "source": [
        "word_index=pd.read_csv(\"/content/word_indexes.csv\")"
      ],
      "execution_count": null,
      "outputs": []
    },
    {
      "cell_type": "markdown",
      "metadata": {
        "id": "dE47q3yibEIM"
      },
      "source": [
        "The word index file contains mapping from words to integers."
      ]
    },
    {
      "cell_type": "code",
      "metadata": {
        "id": "AbkABN8jA_Ye",
        "colab": {
          "base_uri": "https://localhost:8080/",
          "height": 204
        },
        "outputId": "9e7ba619-7176-4e44-e0a7-155ca10ed731"
      },
      "source": [
        "word_index.head()"
      ],
      "execution_count": null,
      "outputs": [
        {
          "output_type": "execute_result",
          "data": {
            "text/html": [
              "<div>\n",
              "<style scoped>\n",
              "    .dataframe tbody tr th:only-of-type {\n",
              "        vertical-align: middle;\n",
              "    }\n",
              "\n",
              "    .dataframe tbody tr th {\n",
              "        vertical-align: top;\n",
              "    }\n",
              "\n",
              "    .dataframe thead th {\n",
              "        text-align: right;\n",
              "    }\n",
              "</style>\n",
              "<table border=\"1\" class=\"dataframe\">\n",
              "  <thead>\n",
              "    <tr style=\"text-align: right;\">\n",
              "      <th></th>\n",
              "      <th>Words</th>\n",
              "      <th>Indexes</th>\n",
              "    </tr>\n",
              "  </thead>\n",
              "  <tbody>\n",
              "    <tr>\n",
              "      <th>0</th>\n",
              "      <td>tsukino</td>\n",
              "      <td>52009</td>\n",
              "    </tr>\n",
              "    <tr>\n",
              "      <th>1</th>\n",
              "      <td>nunnery</td>\n",
              "      <td>52010</td>\n",
              "    </tr>\n",
              "    <tr>\n",
              "      <th>2</th>\n",
              "      <td>sonja</td>\n",
              "      <td>16819</td>\n",
              "    </tr>\n",
              "    <tr>\n",
              "      <th>3</th>\n",
              "      <td>vani</td>\n",
              "      <td>63954</td>\n",
              "    </tr>\n",
              "    <tr>\n",
              "      <th>4</th>\n",
              "      <td>woods</td>\n",
              "      <td>1411</td>\n",
              "    </tr>\n",
              "  </tbody>\n",
              "</table>\n",
              "</div>"
            ],
            "text/plain": [
              "     Words  Indexes\n",
              "0  tsukino    52009\n",
              "1  nunnery    52010\n",
              "2    sonja    16819\n",
              "3     vani    63954\n",
              "4    woods     1411"
            ]
          },
          "metadata": {
            "tags": []
          },
          "execution_count": 10
        }
      ]
    },
    {
      "cell_type": "markdown",
      "metadata": {
        "id": "QZYF6pDzbNCe"
      },
      "source": [
        " we are going to convert the word_index dataframe into a python dictionary  for converting our reviews from string to integer format."
      ]
    },
    {
      "cell_type": "code",
      "metadata": {
        "id": "zuiMcF5XD65R"
      },
      "source": [
        "word_index=dict(zip(word_index.Words,word_index.Indexes))"
      ],
      "execution_count": null,
      "outputs": []
    },
    {
      "cell_type": "code",
      "metadata": {
        "id": "FsScw2ilFqap"
      },
      "source": [
        "word_index[\"<PAD>\"]=0\n",
        "word_index[\"<START\"]=1\n",
        "word_index[\"<UNK>\"]=2\n",
        "word_index[\"<UNUSED>\"]=3"
      ],
      "execution_count": null,
      "outputs": []
    },
    {
      "cell_type": "markdown",
      "metadata": {
        "id": "bVEL7jQ6bjbV"
      },
      "source": [
        " we define a function review_encoder that encodes the reviews into integer format according to the mapping specified by word_index file."
      ]
    },
    {
      "cell_type": "code",
      "metadata": {
        "id": "nay4o8dSAqbu"
      },
      "source": [
        "def review_encoder(text):\n",
        "  arr=[word_index[word] for word in text]\n",
        "  return arr"
      ],
      "execution_count": null,
      "outputs": []
    },
    {
      "cell_type": "markdown",
      "metadata": {
        "id": "d3mS11cVcGhU"
      },
      "source": [
        "We split the reviews from their corresponding sentiments to preprocess the reviews and sentiments separately "
      ]
    },
    {
      "cell_type": "code",
      "metadata": {
        "id": "bUhde9eLE5H3"
      },
      "source": [
        "train_data,train_labels=imdb_reviews['Reviews'],imdb_reviews['Sentiment']\n",
        "test_data, test_labels=test_reviews['Reviews'],test_reviews['Sentiment']"
      ],
      "execution_count": null,
      "outputs": []
    },
    {
      "cell_type": "markdown",
      "metadata": {
        "id": "jBWDVwCNdBJP"
      },
      "source": [
        "tokenize or split the review on the basis of whitespaces\n"
      ]
    },
    {
      "cell_type": "code",
      "metadata": {
        "id": "frWCqvycL-w5"
      },
      "source": [
        "train_data=train_data.apply(lambda review:review.split())\n",
        "test_data=test_data.apply(lambda review:review.split())"
      ],
      "execution_count": null,
      "outputs": []
    },
    {
      "cell_type": "markdown",
      "metadata": {
        "id": "8GCM_74ve7OZ"
      },
      "source": [
        "After tokenized the reviews now we can apply the review_encoder function to each review and transform the reviews into integer format."
      ]
    },
    {
      "cell_type": "code",
      "metadata": {
        "id": "wJLwZH1OMPJM"
      },
      "source": [
        "train_data=train_data.apply(review_encoder)\n",
        "test_data=test_data.apply(review_encoder)"
      ],
      "execution_count": null,
      "outputs": []
    },
    {
      "cell_type": "code",
      "metadata": {
        "id": "Z3M_klO4MhFA",
        "colab": {
          "base_uri": "https://localhost:8080/"
        },
        "outputId": "df45cc5c-eb63-4a45-c3d9-86550578669c"
      },
      "source": [
        "train_data.head()"
      ],
      "execution_count": null,
      "outputs": [
        {
          "output_type": "execute_result",
          "data": {
            "text/plain": [
              "0    [1, 14, 22, 16, 43, 530, 973, 1622, 1385, 65, ...\n",
              "1    [1, 194, 1153, 194, 8255, 78, 228, 5, 6, 1463,...\n",
              "2    [1, 14, 47, 8, 30, 31, 7, 4, 249, 108, 7, 4, 5...\n",
              "3    [1, 4, 2, 2, 33, 2804, 4, 2040, 432, 111, 153,...\n",
              "4    [1, 249, 1323, 7, 61, 113, 10, 10, 13, 1637, 1...\n",
              "Name: Reviews, dtype: object"
            ]
          },
          "metadata": {
            "tags": []
          },
          "execution_count": 18
        }
      ]
    },
    {
      "cell_type": "markdown",
      "metadata": {
        "id": "gEUf78Aif02A"
      },
      "source": [
        " to encode the sentiments and we are labeling the positive sentiment as 1 and negative sentiment as 0."
      ]
    },
    {
      "cell_type": "code",
      "metadata": {
        "id": "p01DiByEJ7fw"
      },
      "source": [
        "def encode_sentiments(x):\n",
        "  if x=='positive':\n",
        "    return 1\n",
        "  else:\n",
        "    return 0\n",
        "\n",
        "train_labels=train_labels.apply(encode_sentiments)\n",
        "test_labels=test_labels.apply(encode_sentiments)"
      ],
      "execution_count": null,
      "outputs": []
    },
    {
      "cell_type": "code",
      "metadata": {
        "id": "CHEVR3TbPE_1"
      },
      "source": [
        "train_data=keras.preprocessing.sequence.pad_sequences(train_data,value=word_index[\"<PAD>\"],padding='post',maxlen=500)\n",
        "test_data=keras.preprocessing.sequence.pad_sequences(test_data,value=word_index[\"<PAD>\"],padding='post',maxlen=500)"
      ],
      "execution_count": null,
      "outputs": []
    },
    {
      "cell_type": "markdown",
      "metadata": {
        "id": "EjL1Q8kG2YXV"
      },
      "source": [
        "#Building the model\n",
        "Our model is a neural network and it consits of the following layers : \n",
        "\n",
        "1.   one word embedding layer which creates word embeddings of length 16 from integer encoded review.\n",
        "2.  second layer is global average pooling layer which is used to prevent overfitting by reducing the number of parameters.\n",
        "\n",
        "1.   then a dense layer which has 16 hidden units and uses relu as activation function\n",
        "2.  the final layer is the output layer which uses sigmoid as activation function \n",
        "\n",
        "\n"
      ]
    },
    {
      "cell_type": "code",
      "metadata": {
        "id": "D1WDSfAIPs31"
      },
      "source": [
        "model=keras.Sequential([keras.layers.Embedding(10000,16,input_length=500),\n",
        "                        keras.layers.GlobalAveragePooling1D(),\n",
        "                        keras.layers.Dense(16,activation='relu'),\n",
        "                        keras.layers.Dense(1,activation='sigmoid')])"
      ],
      "execution_count": null,
      "outputs": []
    },
    {
      "cell_type": "markdown",
      "metadata": {
        "id": "9pK_1v8v3hBZ"
      },
      "source": [
        "#compiling the model\n",
        "\n",
        "\n",
        "1.   Adam is used as optimization function for our model.\n",
        "2.   Binary cross entropy loss function is used as loss function for the model.\n",
        "\n",
        "1.   Accuracy is used as the metric for evaluating the model.\n",
        "\n",
        "\n",
        "\n"
      ]
    },
    {
      "cell_type": "code",
      "metadata": {
        "id": "JPsQuds5QYud"
      },
      "source": [
        "model.compile(optimizer='adam',loss='binary_crossentropy',metrics=['accuracy'])"
      ],
      "execution_count": null,
      "outputs": []
    },
    {
      "cell_type": "markdown",
      "metadata": {
        "id": "7wJsxdk24H_g"
      },
      "source": [
        "\n",
        " train the model on our downloaded IMDB dataset."
      ]
    },
    {
      "cell_type": "code",
      "metadata": {
        "id": "YxUCLcRJQmBB",
        "colab": {
          "base_uri": "https://localhost:8080/"
        },
        "outputId": "5dff0e7b-4544-48ac-fb87-4108ab34552b"
      },
      "source": [
        "#training the model\n",
        "history=model.fit(train_data,train_labels,epochs=30,batch_size=512,validation_data=(test_data,test_labels))"
      ],
      "execution_count": null,
      "outputs": [
        {
          "output_type": "stream",
          "text": [
            "Epoch 1/30\n",
            "49/49 [==============================] - 2s 35ms/step - loss: 0.6928 - accuracy: 0.5190 - val_loss: 0.6909 - val_accuracy: 0.5599\n",
            "Epoch 2/30\n",
            "49/49 [==============================] - 2s 31ms/step - loss: 0.6891 - accuracy: 0.5882 - val_loss: 0.6829 - val_accuracy: 0.7026\n",
            "Epoch 3/30\n",
            "49/49 [==============================] - 1s 31ms/step - loss: 0.6776 - accuracy: 0.6778 - val_loss: 0.6639 - val_accuracy: 0.6885\n",
            "Epoch 4/30\n",
            "49/49 [==============================] - 1s 30ms/step - loss: 0.6515 - accuracy: 0.7399 - val_loss: 0.6276 - val_accuracy: 0.7748\n",
            "Epoch 5/30\n",
            "49/49 [==============================] - 2s 31ms/step - loss: 0.6076 - accuracy: 0.7931 - val_loss: 0.5792 - val_accuracy: 0.7976\n",
            "Epoch 6/30\n",
            "49/49 [==============================] - 1s 30ms/step - loss: 0.5547 - accuracy: 0.8149 - val_loss: 0.5286 - val_accuracy: 0.8072\n",
            "Epoch 7/30\n",
            "49/49 [==============================] - 1s 30ms/step - loss: 0.4946 - accuracy: 0.8377 - val_loss: 0.4778 - val_accuracy: 0.8342\n",
            "Epoch 8/30\n",
            "49/49 [==============================] - 1s 31ms/step - loss: 0.4444 - accuracy: 0.8564 - val_loss: 0.4381 - val_accuracy: 0.8378\n",
            "Epoch 9/30\n",
            "49/49 [==============================] - 2s 31ms/step - loss: 0.4007 - accuracy: 0.8697 - val_loss: 0.4091 - val_accuracy: 0.8464\n",
            "Epoch 10/30\n",
            "49/49 [==============================] - 2s 34ms/step - loss: 0.3669 - accuracy: 0.8758 - val_loss: 0.3801 - val_accuracy: 0.8596\n",
            "Epoch 11/30\n",
            "49/49 [==============================] - 2s 31ms/step - loss: 0.3336 - accuracy: 0.8855 - val_loss: 0.3602 - val_accuracy: 0.8650\n",
            "Epoch 12/30\n",
            "49/49 [==============================] - 2s 31ms/step - loss: 0.3127 - accuracy: 0.8925 - val_loss: 0.3450 - val_accuracy: 0.8690\n",
            "Epoch 13/30\n",
            "49/49 [==============================] - 2s 31ms/step - loss: 0.2945 - accuracy: 0.8967 - val_loss: 0.3324 - val_accuracy: 0.8723\n",
            "Epoch 14/30\n",
            "49/49 [==============================] - 1s 30ms/step - loss: 0.2787 - accuracy: 0.9030 - val_loss: 0.3229 - val_accuracy: 0.8748\n",
            "Epoch 15/30\n",
            "49/49 [==============================] - 2s 31ms/step - loss: 0.2678 - accuracy: 0.9042 - val_loss: 0.3150 - val_accuracy: 0.8774\n",
            "Epoch 16/30\n",
            "49/49 [==============================] - 1s 31ms/step - loss: 0.2543 - accuracy: 0.9116 - val_loss: 0.3098 - val_accuracy: 0.8776\n",
            "Epoch 17/30\n",
            "49/49 [==============================] - 2s 32ms/step - loss: 0.2441 - accuracy: 0.9160 - val_loss: 0.3051 - val_accuracy: 0.8794\n",
            "Epoch 18/30\n",
            "49/49 [==============================] - 2s 33ms/step - loss: 0.2341 - accuracy: 0.9183 - val_loss: 0.2990 - val_accuracy: 0.8822\n",
            "Epoch 19/30\n",
            "49/49 [==============================] - 2s 32ms/step - loss: 0.2218 - accuracy: 0.9231 - val_loss: 0.2960 - val_accuracy: 0.8826\n",
            "Epoch 20/30\n",
            "49/49 [==============================] - 2s 33ms/step - loss: 0.2183 - accuracy: 0.9254 - val_loss: 0.2930 - val_accuracy: 0.8840\n",
            "Epoch 21/30\n",
            "49/49 [==============================] - 2s 32ms/step - loss: 0.2068 - accuracy: 0.9277 - val_loss: 0.2905 - val_accuracy: 0.8845\n",
            "Epoch 22/30\n",
            "49/49 [==============================] - 2s 32ms/step - loss: 0.1963 - accuracy: 0.9336 - val_loss: 0.2895 - val_accuracy: 0.8852\n",
            "Epoch 23/30\n",
            "49/49 [==============================] - 2s 32ms/step - loss: 0.1982 - accuracy: 0.9297 - val_loss: 0.2879 - val_accuracy: 0.8861\n",
            "Epoch 24/30\n",
            "49/49 [==============================] - 1s 30ms/step - loss: 0.1871 - accuracy: 0.9373 - val_loss: 0.2866 - val_accuracy: 0.8864\n",
            "Epoch 25/30\n",
            "49/49 [==============================] - 1s 31ms/step - loss: 0.1821 - accuracy: 0.9378 - val_loss: 0.2888 - val_accuracy: 0.8848\n",
            "Epoch 26/30\n",
            "49/49 [==============================] - 1s 31ms/step - loss: 0.1802 - accuracy: 0.9389 - val_loss: 0.2865 - val_accuracy: 0.8861\n",
            "Epoch 27/30\n",
            "49/49 [==============================] - 2s 31ms/step - loss: 0.1736 - accuracy: 0.9423 - val_loss: 0.2858 - val_accuracy: 0.8858\n",
            "Epoch 28/30\n",
            "49/49 [==============================] - 1s 31ms/step - loss: 0.1696 - accuracy: 0.9424 - val_loss: 0.2865 - val_accuracy: 0.8861\n",
            "Epoch 29/30\n",
            "49/49 [==============================] - 1s 30ms/step - loss: 0.1634 - accuracy: 0.9440 - val_loss: 0.2871 - val_accuracy: 0.8858\n",
            "Epoch 30/30\n",
            "49/49 [==============================] - 1s 31ms/step - loss: 0.1592 - accuracy: 0.9485 - val_loss: 0.2879 - val_accuracy: 0.8858\n"
          ],
          "name": "stdout"
        }
      ]
    },
    {
      "cell_type": "markdown",
      "metadata": {
        "id": "3FQWLj-i4dEK"
      },
      "source": [
        " evaluating the loss and accuracy of our model on testing data."
      ]
    },
    {
      "cell_type": "code",
      "metadata": {
        "id": "aHLzEJI-RCWF",
        "colab": {
          "base_uri": "https://localhost:8080/"
        },
        "outputId": "7f3c84cf-fc02-4d9c-c25d-b8ca15b3e95a"
      },
      "source": [
        "loss,accuracy=model.evaluate(test_data,test_labels)"
      ],
      "execution_count": null,
      "outputs": [
        {
          "output_type": "stream",
          "text": [
            "782/782 [==============================] - 1s 2ms/step - loss: 0.2879 - accuracy: 0.8858\n"
          ],
          "name": "stdout"
        }
      ]
    },
    {
      "cell_type": "markdown",
      "metadata": {
        "id": "NhtQ2vt44tvd"
      },
      "source": [
        " model is giving an accuracy of 88.58% on the testing data."
      ]
    },
    {
      "cell_type": "markdown",
      "metadata": {
        "id": "mWH8VZPmisqr"
      },
      "source": [
        " taking a random review from our test dataset and check wether our model produces correct output or not"
      ]
    },
    {
      "cell_type": "code",
      "metadata": {
        "colab": {
          "base_uri": "https://localhost:8080/"
        },
        "id": "FiqpYZu7ipTa",
        "outputId": "aff57399-fb6b-426a-820b-86a143e5752f"
      },
      "source": [
        "index=np.random.randint(1,1000)\n",
        "user_review=test_reviews.loc[index]\n",
        "print(user_review)\n"
      ],
      "execution_count": null,
      "outputs": [
        {
          "output_type": "stream",
          "text": [
            "Reviews      <START is a really well done 6 hour drama abou...\n",
            "Sentiment                                             positive\n",
            "Name: 452, dtype: object\n"
          ],
          "name": "stdout"
        }
      ]
    },
    {
      "cell_type": "markdown",
      "metadata": {
        "id": "Ml5oNL-dj-Ix"
      },
      "source": [
        "the sentiment for the above review is positive, to take the integer format of this particular review which I have already have in our preprocessed test data and then give it as an input to our model to check the prediction of our model."
      ]
    },
    {
      "cell_type": "code",
      "metadata": {
        "colab": {
          "base_uri": "https://localhost:8080/"
        },
        "id": "JLJGmSkej9Jl",
        "outputId": "6cc03304-d42e-4247-adcd-6f96da3c5ee1"
      },
      "source": [
        "user_review=test_data[index]\n",
        "user_review=np.array([user_review])\n",
        "if (model.predict(user_review)>0.5).astype(\"int32\"):\n",
        "  print(\"positive sentiment\")\n",
        "else:\n",
        "  print(\"negative sentiment\")\n"
      ],
      "execution_count": null,
      "outputs": [
        {
          "output_type": "stream",
          "text": [
            "positive sentiment\n"
          ],
          "name": "stdout"
        }
      ]
    },
    {
      "cell_type": "markdown",
      "metadata": {
        "id": "rBfalQWOmg66"
      },
      "source": [
        "As we can see our model is now able to predict the sentiment of the review."
      ]
    }
  ]
}